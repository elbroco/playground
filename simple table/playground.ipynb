{
 "cells": [
  {
   "cell_type": "code",
   "execution_count": 109,
   "metadata": {},
   "outputs": [],
   "source": [
    "import pandas as pd"
   ]
  },
  {
   "cell_type": "code",
   "execution_count": 110,
   "metadata": {},
   "outputs": [],
   "source": [
    "df_eco = pd.read_csv(\"data2.csv\", sep=\",\", header=0)"
   ]
  },
  {
   "cell_type": "code",
   "execution_count": 111,
   "metadata": {},
   "outputs": [
    {
     "data": {
      "text/html": [
       "<div>\n",
       "<style scoped>\n",
       "    .dataframe tbody tr th:only-of-type {\n",
       "        vertical-align: middle;\n",
       "    }\n",
       "\n",
       "    .dataframe tbody tr th {\n",
       "        vertical-align: top;\n",
       "    }\n",
       "\n",
       "    .dataframe thead th {\n",
       "        text-align: right;\n",
       "    }\n",
       "</style>\n",
       "<table border=\"1\" class=\"dataframe\">\n",
       "  <thead>\n",
       "    <tr style=\"text-align: right;\">\n",
       "      <th></th>\n",
       "      <th>Ocupación_informal</th>\n",
       "      <th>Población_rural</th>\n",
       "      <th>Empleadores</th>\n",
       "      <th>Educación</th>\n",
       "      <th>PIB_per_cápita</th>\n",
       "    </tr>\n",
       "  </thead>\n",
       "  <tbody>\n",
       "    <tr>\n",
       "      <th>0</th>\n",
       "      <td>0.49910</td>\n",
       "      <td>1058009</td>\n",
       "      <td>0.006255</td>\n",
       "      <td>0.517460</td>\n",
       "      <td>3689.830082</td>\n",
       "    </tr>\n",
       "    <tr>\n",
       "      <th>1</th>\n",
       "      <td>0.28020</td>\n",
       "      <td>3435109</td>\n",
       "      <td>0.050897</td>\n",
       "      <td>1.196828</td>\n",
       "      <td>57432.180285</td>\n",
       "    </tr>\n",
       "    <tr>\n",
       "      <th>2</th>\n",
       "      <td>0.02539</td>\n",
       "      <td>235807</td>\n",
       "      <td>0.041533</td>\n",
       "      <td>0.772435</td>\n",
       "      <td>41318.019639</td>\n",
       "    </tr>\n",
       "  </tbody>\n",
       "</table>\n",
       "</div>"
      ],
      "text/plain": [
       "   Ocupación_informal  Población_rural  Empleadores  Educación  PIB_per_cápita\n",
       "0             0.49910          1058009     0.006255   0.517460     3689.830082\n",
       "1             0.28020          3435109     0.050897   1.196828    57432.180285\n",
       "2             0.02539           235807     0.041533   0.772435    41318.019639"
      ]
     },
     "execution_count": 111,
     "metadata": {},
     "output_type": "execute_result"
    }
   ],
   "source": [
    "df_eco.loc[0:2]"
   ]
  },
  {
   "cell_type": "code",
   "execution_count": 112,
   "metadata": {},
   "outputs": [],
   "source": [
    "df_oi = df_eco.loc[:,['Ocupación_informal']]\n",
    "df_pr = df_eco.loc[:,['Población_rural']]\n",
    "df_em = df_eco.loc[:,['Empleadores']]\n",
    "df_ed = df_eco.loc[:,['Educación']]\n",
    "df_pib = df_eco.loc[:,['PIB_per_cápita']]"
   ]
  },
  {
   "cell_type": "code",
   "execution_count": 113,
   "metadata": {},
   "outputs": [
    {
     "name": "stdout",
     "output_type": "stream",
     "text": [
      "[1.015096259211268, 1.9980394072566117, 0.3754375801106067, 0.45886045987953944, 1.1691949842152545]\n"
     ]
    }
   ],
   "source": [
    "all_dt_frames = [df_oi, df_pr, df_em, df_ed, df_pib]\n",
    "\n",
    "mins = []\n",
    "for dt in all_dt_frames:\n",
    "    min1 = dt.min()\n",
    "    mins.append(min1)\n",
    "\n",
    "maxs = []\n",
    "for dt in all_dt_frames:\n",
    "    max1 = dt.max()\n",
    "    maxs.append(max1)\n",
    "\n",
    "q1s = []\n",
    "for dt in all_dt_frames:\n",
    "    q1 = dt.quantile(0.25)\n",
    "    q1s.append(q1)\n",
    "\n",
    "medians = []\n",
    "for dt in all_dt_frames:\n",
    "    median1 = dt.median()\n",
    "    medians.append(median1)\n",
    "\n",
    "means = []\n",
    "for dt in all_dt_frames:\n",
    "    mean1 = dt.mean()\n",
    "    means.append(mean1)\n",
    "\n",
    "q3s = []\n",
    "for dt in all_dt_frames:\n",
    "    q31 = dt.quantile(0.75)\n",
    "    q3s.append(q31)\n",
    "\n",
    "varss = []\n",
    "for dt in all_dt_frames:\n",
    "    var1 = dt.var()\n",
    "    varss.append(var1)\n",
    "\n",
    "stds = []\n",
    "for dt in all_dt_frames:\n",
    "    std1 = dt.std()\n",
    "    stds.append(std1)\n",
    "    \n",
    "    \n",
    "\n",
    "\n",
    "min_vals = [series.values[0] for series in mins]\n",
    "max_vals = [series.values[0] for series in maxs]\n",
    "q1_vals = [series.values[0] for series in q1s]\n",
    "median_vals = [series.values[0] for series in medians]\n",
    "mean_vals = [series.values[0] for series in means]\n",
    "q3_vals = [series.values[0] for series in q3s]\n",
    "var_vals = [series.values[0] for series in varss]\n",
    "std_vals = [series.values[0] for series in stds]\n",
    "\n",
    "cv = [std_vals[i]/mean_vals[i]  for i in range(len(std_vals))]\n",
    "\n",
    "# print(min_vals, \"\\n\", max_vals, \"\\n\", q1_vals, \"\\n\", median_vals, \"\\n\", mean_vals, \"\\n\", q3_vals, \"\\n\", var_vals, \"\\n\", std_vals)\n",
    "print(cv)"
   ]
  },
  {
   "cell_type": "code",
   "execution_count": 114,
   "metadata": {},
   "outputs": [
    {
     "name": "stdout",
     "output_type": "stream",
     "text": [
      "\n",
      "DataFrame exported to CSV successfully.\n"
     ]
    },
    {
     "name": "stderr",
     "output_type": "stream",
     "text": [
      "C:\\Users\\Alexandra la Mejor\\AppData\\Local\\Temp\\ipykernel_14072\\1897059141.py:18: FutureWarning: The behavior of DataFrame concatenation with empty or all-NA entries is deprecated. In a future version, this will no longer exclude empty or all-NA columns when determining the result dtypes. To retain the old behavior, exclude the relevant entries before the concat operation.\n",
      "  df = pd.concat([df, a_df], ignore_index=True)\n"
     ]
    },
    {
     "name": "stdout",
     "output_type": "stream",
     "text": [
      "CSV file converted to Excel successfully.\n"
     ]
    }
   ],
   "source": [
    "import pandas as pd\n",
    "\n",
    "# Define headers and create an empty DataFrame\n",
    "headers = ['Ocupación_informal', 'Población_rural', 'Empleadores', 'Educación', 'PIB_per_cápita']\n",
    "df = pd.DataFrame(columns=headers)\n",
    "\n",
    "# Create individual DataFrames for each set of values\n",
    "a_df = pd.DataFrame([min_vals], columns=headers)\n",
    "b_df = pd.DataFrame([max_vals], columns=headers)\n",
    "c_df = pd.DataFrame([q1_vals], columns=headers)\n",
    "d_df = pd.DataFrame([median_vals], columns=headers)\n",
    "f_df = pd.DataFrame([mean_vals], columns=headers)\n",
    "g_df = pd.DataFrame([q3_vals], columns=headers)\n",
    "h_df = pd.DataFrame([var_vals], columns=headers)\n",
    "i_df = pd.DataFrame([std_vals], columns=headers)\n",
    "j_df = pd.DataFrame([cv], columns=headers)\n",
    "\n",
    "df = pd.concat([df, a_df], ignore_index=True)\n",
    "df = pd.concat([df, b_df], ignore_index=True)\n",
    "df = pd.concat([df, c_df], ignore_index=True)\n",
    "df = pd.concat([df, d_df], ignore_index=True)\n",
    "df = pd.concat([df, f_df], ignore_index=True)\n",
    "df = pd.concat([df, g_df], ignore_index=True)\n",
    "df = pd.concat([df, h_df], ignore_index=True)\n",
    "df = pd.concat([df, i_df], ignore_index=True)\n",
    "df = pd.concat([df, j_df], ignore_index=True)\n",
    "\n",
    "\n",
    "\n",
    "# Define your new column values\n",
    "new_column_values = ['min', 'max', 'q1', 'median', 'mean', 'q3', 'var', 'std','cv']\n",
    "\n",
    "# Insert the new column at the first position\n",
    "df.insert(0, '----', new_column_values)\n",
    "\n",
    "\n",
    "df.to_csv('final_table.csv', index=False)\n",
    "print(\"\\nDataFrame exported to CSV successfully.\")\n",
    "\n",
    "\n",
    "# Read CSV file into a DataFrame\n",
    "df = pd.read_csv('final_table.csv')\n",
    "\n",
    "# Write DataFrame to Excel file\n",
    "df.to_excel('final_table.xlsx', index=False)\n",
    "\n",
    "print(\"CSV file converted to Excel successfully.\")\n"
   ]
  },
  {
   "cell_type": "code",
   "execution_count": 115,
   "metadata": {},
   "outputs": [
    {
     "name": "stdout",
     "output_type": "stream",
     "text": [
      "\\begin{tabular}{lrrrrr}\n",
      "\\toprule\n",
      "---- & Ocupación_informal & Población_rural & Empleadores & Educación & PIB_per_cápita \\\\\n",
      "\\midrule\n",
      "min & 0.008450 & 25136.000000 & 0.003468 & 0.036508 & 741.797635 \\\\\n",
      "max & 0.949070 & 120479887.000000 & 0.073972 & 1.270803 & 108351.452159 \\\\\n",
      "q1 & 0.029115 & 1068769.250000 & 0.029099 & 0.481779 & 5824.112031 \\\\\n",
      "median & 0.185845 & 2830219.000000 & 0.037591 & 0.592842 & 12255.314648 \\\\\n",
      "mean & 0.301837 & 10987938.973684 & 0.035967 & 0.589232 & 17121.987563 \\\\\n",
      "q3 & 0.583715 & 10673670.250000 & 0.043138 & 0.732560 & 19337.435434 \\\\\n",
      "var & 0.093877 & 481992828539351.125000 & 0.000182 & 0.073103 & 400758037.948454 \\\\\n",
      "std & 0.306393 & 21954335.073952 & 0.013503 & 0.270375 & 20018.941979 \\\\\n",
      "cv & 1.015096 & 1.998039 & 0.375438 & 0.458860 & 1.169195 \\\\\n",
      "\\bottomrule\n",
      "\\end{tabular}\n",
      "\n"
     ]
    }
   ],
   "source": [
    "import pandas as pd\n",
    "\n",
    "# Read CSV file into a DataFrame\n",
    "df = pd.read_csv('final_table.csv')\n",
    "\n",
    "# Generate LaTeX table code\n",
    "latex_table = df.to_latex(index=False)\n",
    "\n",
    "# Print the LaTeX code\n",
    "print(latex_table)\n"
   ]
  }
 ],
 "metadata": {
  "kernelspec": {
   "display_name": "Python 3",
   "language": "python",
   "name": "python3"
  },
  "language_info": {
   "codemirror_mode": {
    "name": "ipython",
    "version": 3
   },
   "file_extension": ".py",
   "mimetype": "text/x-python",
   "name": "python",
   "nbconvert_exporter": "python",
   "pygments_lexer": "ipython3",
   "version": "3.12.3"
  }
 },
 "nbformat": 4,
 "nbformat_minor": 2
}
